{
 "cells": [
  {
   "cell_type": "code",
   "execution_count": 1,
   "metadata": {},
   "outputs": [
    {
     "name": "stdout",
     "output_type": "stream",
     "text": [
      "Defaulting to user installation because normal site-packages is not writeable\n",
      "Collecting pandas\n",
      "  Downloading pandas-2.2.3-cp310-cp310-manylinux_2_17_x86_64.manylinux2014_x86_64.whl (13.1 MB)\n",
      "\u001b[2K     \u001b[90m━━━━━━━━━━━━━━━━━━━━━━━━━━━━━━━━━━━━━━━━\u001b[0m \u001b[32m13.1/13.1 MB\u001b[0m \u001b[31m11.9 MB/s\u001b[0m eta \u001b[36m0:00:00\u001b[0m00:01\u001b[0m00:01\u001b[0m\n",
      "\u001b[?25hRequirement already satisfied: python-dateutil>=2.8.2 in /home/onyxia/.local/lib/python3.10/site-packages (from pandas) (2.9.0.post0)\n",
      "Collecting pytz>=2020.1\n",
      "  Downloading pytz-2024.2-py2.py3-none-any.whl (508 kB)\n",
      "\u001b[2K     \u001b[90m━━━━━━━━━━━━━━━━━━━━━━━━━━━━━━━━━━━━━━\u001b[0m \u001b[32m508.0/508.0 KB\u001b[0m \u001b[31m71.1 MB/s\u001b[0m eta \u001b[36m0:00:00\u001b[0m\n",
      "\u001b[?25hRequirement already satisfied: numpy>=1.22.4 in /home/onyxia/.local/lib/python3.10/site-packages (from pandas) (2.1.2)\n",
      "Collecting tzdata>=2022.7\n",
      "  Downloading tzdata-2024.2-py2.py3-none-any.whl (346 kB)\n",
      "\u001b[2K     \u001b[90m━━━━━━━━━━━━━━━━━━━━━━━━━━━━━━━━━━━━━━\u001b[0m \u001b[32m346.6/346.6 KB\u001b[0m \u001b[31m76.8 MB/s\u001b[0m eta \u001b[36m0:00:00\u001b[0m\n",
      "\u001b[?25hRequirement already satisfied: six>=1.5 in /usr/lib/python3/dist-packages (from python-dateutil>=2.8.2->pandas) (1.16.0)\n",
      "Installing collected packages: pytz, tzdata, pandas\n",
      "Successfully installed pandas-2.2.3 pytz-2024.2 tzdata-2024.2\n"
     ]
    }
   ],
   "source": [
    "! pip install pandas #le ! nous permet de faire le telechargement sur le notebook et pas directement sur le terminal. En realité on telecharge toute nos librayries dans le fichier requirements.txt, VSS code fera le telechargement directement sans lui demander "
   ]
  },
  {
   "cell_type": "code",
   "execution_count": 2,
   "metadata": {},
   "outputs": [],
   "source": [
    "import pandas as pd "
   ]
  },
  {
   "cell_type": "code",
   "execution_count": 3,
   "metadata": {},
   "outputs": [
    {
     "name": "stdout",
     "output_type": "stream",
     "text": [
      "0    chien\n",
      "1     chat\n",
      "2    tigre\n",
      "dtype: object 0     12\n",
      "1      2\n",
      "2    130\n",
      "dtype: int64\n"
     ]
    }
   ],
   "source": [
    "animal=pd.Series([\"chien\",\"chat\",\"tigre\"])\n",
    "poid=pd.Series([12,2,130])\n",
    "print(animal,poid)"
   ]
  },
  {
   "cell_type": "code",
   "execution_count": 4,
   "metadata": {},
   "outputs": [
    {
     "name": "stdout",
     "output_type": "stream",
     "text": [
      "  animal  poid\n",
      "0  chien    12\n",
      "1   chat     2\n",
      "2  tigre   130\n"
     ]
    }
   ],
   "source": [
    "tableau=pd.DataFrame(zip(animal,poid),columns=[\"animal\",\"poid\"])\n",
    "print(tableau)"
   ]
  },
  {
   "cell_type": "code",
   "execution_count": 14,
   "metadata": {},
   "outputs": [
    {
     "name": "stdout",
     "output_type": "stream",
     "text": [
      "0    False\n",
      "1     True\n",
      "2    False\n",
      "Name: animal, dtype: bool\n"
     ]
    },
    {
     "data": {
      "text/plain": [
       "1    2\n",
       "Name: poid, dtype: int64"
      ]
     },
     "execution_count": 14,
     "metadata": {},
     "output_type": "execute_result"
    }
   ],
   "source": [
    "tableau[\"animal\"]\n",
    "tableau[\"animal\"][1]\n",
    "print(tableau[\"animal\"]==\"chat\")\n",
    "tableau.loc[tableau[\"animal\"]==\"chat\",\"poid\"]\n",
    "\n",
    "\n"
   ]
  },
  {
   "cell_type": "markdown",
   "metadata": {},
   "source": [
    "Exercice 1\n",
    "Importer les données de l’Ademe à l’aide du package Pandas et de la commande consacrée pour l’import de csv. Nommer le DataFrame obtenu emissions.\n",
    "Utiliser les méthodes adéquates afin d’afficher pour les 10 premières valeurs, les 15 dernières et un échantillon aléatoire de 10 valeurs grâce aux méthodes adéquates du package Pandas.\n",
    "Tirer 5 pourcents de l’échantillon sans remise.\n",
    "Ne conserver que les 10 premières lignes et tirer aléatoirement dans celles-ci pour obtenir un DataFrame de 100 données.\n",
    "Faire 100 tirages à partir des 6 premières lignes avec une probabilité de 1/2 pour la première observation et une probabilité uniforme pour les autres."
   ]
  },
  {
   "cell_type": "code",
   "execution_count": 15,
   "metadata": {},
   "outputs": [
    {
     "data": {
      "text/html": [
       "<div>\n",
       "<style scoped>\n",
       "    .dataframe tbody tr th:only-of-type {\n",
       "        vertical-align: middle;\n",
       "    }\n",
       "\n",
       "    .dataframe tbody tr th {\n",
       "        vertical-align: top;\n",
       "    }\n",
       "\n",
       "    .dataframe thead th {\n",
       "        text-align: right;\n",
       "    }\n",
       "</style>\n",
       "<table border=\"1\" class=\"dataframe\">\n",
       "  <thead>\n",
       "    <tr style=\"text-align: right;\">\n",
       "      <th></th>\n",
       "      <th>INSEE commune</th>\n",
       "      <th>Commune</th>\n",
       "      <th>Agriculture</th>\n",
       "      <th>Autres transports</th>\n",
       "      <th>Autres transports international</th>\n",
       "      <th>CO2 biomasse hors-total</th>\n",
       "      <th>Déchets</th>\n",
       "      <th>Energie</th>\n",
       "      <th>Industrie hors-énergie</th>\n",
       "      <th>Résidentiel</th>\n",
       "      <th>Routier</th>\n",
       "      <th>Tertiaire</th>\n",
       "    </tr>\n",
       "  </thead>\n",
       "  <tbody>\n",
       "    <tr>\n",
       "      <th>0</th>\n",
       "      <td>01001</td>\n",
       "      <td>L'ABERGEMENT-CLEMENCIAT</td>\n",
       "      <td>3711.425991</td>\n",
       "      <td>NaN</td>\n",
       "      <td>NaN</td>\n",
       "      <td>432.751835</td>\n",
       "      <td>101.430476</td>\n",
       "      <td>2.354558</td>\n",
       "      <td>6.911213</td>\n",
       "      <td>309.358195</td>\n",
       "      <td>793.156501</td>\n",
       "      <td>367.036172</td>\n",
       "    </tr>\n",
       "    <tr>\n",
       "      <th>1</th>\n",
       "      <td>01002</td>\n",
       "      <td>L'ABERGEMENT-DE-VAREY</td>\n",
       "      <td>475.330205</td>\n",
       "      <td>NaN</td>\n",
       "      <td>NaN</td>\n",
       "      <td>140.741660</td>\n",
       "      <td>140.675439</td>\n",
       "      <td>2.354558</td>\n",
       "      <td>6.911213</td>\n",
       "      <td>104.866444</td>\n",
       "      <td>348.997893</td>\n",
       "      <td>112.934207</td>\n",
       "    </tr>\n",
       "    <tr>\n",
       "      <th>2</th>\n",
       "      <td>01004</td>\n",
       "      <td>AMBERIEU-EN-BUGEY</td>\n",
       "      <td>499.043526</td>\n",
       "      <td>212.577908</td>\n",
       "      <td>NaN</td>\n",
       "      <td>10313.446515</td>\n",
       "      <td>5314.314445</td>\n",
       "      <td>998.332482</td>\n",
       "      <td>2930.354461</td>\n",
       "      <td>16616.822534</td>\n",
       "      <td>15642.420313</td>\n",
       "      <td>10732.376934</td>\n",
       "    </tr>\n",
       "    <tr>\n",
       "      <th>3</th>\n",
       "      <td>01005</td>\n",
       "      <td>AMBERIEUX-EN-DOMBES</td>\n",
       "      <td>1859.160954</td>\n",
       "      <td>NaN</td>\n",
       "      <td>NaN</td>\n",
       "      <td>1144.429311</td>\n",
       "      <td>216.217508</td>\n",
       "      <td>94.182310</td>\n",
       "      <td>276.448534</td>\n",
       "      <td>663.683146</td>\n",
       "      <td>1756.341319</td>\n",
       "      <td>782.404357</td>\n",
       "    </tr>\n",
       "    <tr>\n",
       "      <th>4</th>\n",
       "      <td>01006</td>\n",
       "      <td>AMBLEON</td>\n",
       "      <td>448.966808</td>\n",
       "      <td>NaN</td>\n",
       "      <td>NaN</td>\n",
       "      <td>77.033834</td>\n",
       "      <td>48.401549</td>\n",
       "      <td>NaN</td>\n",
       "      <td>NaN</td>\n",
       "      <td>43.714019</td>\n",
       "      <td>398.786800</td>\n",
       "      <td>51.681756</td>\n",
       "    </tr>\n",
       "  </tbody>\n",
       "</table>\n",
       "</div>"
      ],
      "text/plain": [
       "  INSEE commune                  Commune  Agriculture  Autres transports  \\\n",
       "0         01001  L'ABERGEMENT-CLEMENCIAT  3711.425991                NaN   \n",
       "1         01002    L'ABERGEMENT-DE-VAREY   475.330205                NaN   \n",
       "2         01004        AMBERIEU-EN-BUGEY   499.043526         212.577908   \n",
       "3         01005      AMBERIEUX-EN-DOMBES  1859.160954                NaN   \n",
       "4         01006                  AMBLEON   448.966808                NaN   \n",
       "\n",
       "   Autres transports international  CO2 biomasse hors-total      Déchets  \\\n",
       "0                              NaN               432.751835   101.430476   \n",
       "1                              NaN               140.741660   140.675439   \n",
       "2                              NaN             10313.446515  5314.314445   \n",
       "3                              NaN              1144.429311   216.217508   \n",
       "4                              NaN                77.033834    48.401549   \n",
       "\n",
       "      Energie  Industrie hors-énergie   Résidentiel       Routier  \\\n",
       "0    2.354558                6.911213    309.358195    793.156501   \n",
       "1    2.354558                6.911213    104.866444    348.997893   \n",
       "2  998.332482             2930.354461  16616.822534  15642.420313   \n",
       "3   94.182310              276.448534    663.683146   1756.341319   \n",
       "4         NaN                     NaN     43.714019    398.786800   \n",
       "\n",
       "      Tertiaire  \n",
       "0    367.036172  \n",
       "1    112.934207  \n",
       "2  10732.376934  \n",
       "3    782.404357  \n",
       "4     51.681756  "
      ]
     },
     "execution_count": 15,
     "metadata": {},
     "output_type": "execute_result"
    }
   ],
   "source": [
    "url = \"https://koumoul.com/s/data-fair/api/v1/datasets/igt-pouvoir-de-rechauffement-global/convert\"\n",
    "emissions=pd.read_csv(url)\n",
    "emissions.head()"
   ]
  }
 ],
 "metadata": {
  "kernelspec": {
   "display_name": "Python 3",
   "language": "python",
   "name": "python3"
  },
  "language_info": {
   "codemirror_mode": {
    "name": "ipython",
    "version": 3
   },
   "file_extension": ".py",
   "mimetype": "text/x-python",
   "name": "python",
   "nbconvert_exporter": "python",
   "pygments_lexer": "ipython3",
   "version": "3.10.12"
  }
 },
 "nbformat": 4,
 "nbformat_minor": 2
}
